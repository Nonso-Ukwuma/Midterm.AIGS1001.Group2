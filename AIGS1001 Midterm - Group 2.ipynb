{
 "cells": [
  {
   "cell_type": "markdown",
   "id": "b9bf8128",
   "metadata": {},
   "source": [
    "## AIGS1001 Midterm - Group 2"
   ]
  },
  {
   "cell_type": "code",
   "execution_count": 62,
   "id": "667648b8",
   "metadata": {},
   "outputs": [
    {
     "data": {
      "text/html": [
       "<table class=\"dataframe\">\n",
       "<caption>A data.frame: 20 × 2</caption>\n",
       "<thead>\n",
       "\t<tr><th></th><th scope=col>GPA</th><th scope=col>ACT</th></tr>\n",
       "\t<tr><th></th><th scope=col>&lt;dbl&gt;</th><th scope=col>&lt;int&gt;</th></tr>\n",
       "</thead>\n",
       "<tbody>\n",
       "\t<tr><th scope=row>1</th><td>3.897</td><td>21</td></tr>\n",
       "\t<tr><th scope=row>2</th><td>3.885</td><td>14</td></tr>\n",
       "\t<tr><th scope=row>3</th><td>3.778</td><td>28</td></tr>\n",
       "\t<tr><th scope=row>4</th><td>2.540</td><td>22</td></tr>\n",
       "\t<tr><th scope=row>5</th><td>3.028</td><td>21</td></tr>\n",
       "\t<tr><th scope=row>6</th><td>3.865</td><td>31</td></tr>\n",
       "\t<tr><th scope=row>7</th><td>2.962</td><td>32</td></tr>\n",
       "\t<tr><th scope=row>8</th><td>3.961</td><td>27</td></tr>\n",
       "\t<tr><th scope=row>9</th><td>0.500</td><td>29</td></tr>\n",
       "\t<tr><th scope=row>10</th><td>3.178</td><td>26</td></tr>\n",
       "\t<tr><th scope=row>11</th><td>3.310</td><td>24</td></tr>\n",
       "\t<tr><th scope=row>12</th><td>3.538</td><td>30</td></tr>\n",
       "\t<tr><th scope=row>13</th><td>3.083</td><td>24</td></tr>\n",
       "\t<tr><th scope=row>14</th><td>3.013</td><td>24</td></tr>\n",
       "\t<tr><th scope=row>15</th><td>3.245</td><td>33</td></tr>\n",
       "\t<tr><th scope=row>16</th><td>2.963</td><td>27</td></tr>\n",
       "\t<tr><th scope=row>17</th><td>3.522</td><td>25</td></tr>\n",
       "\t<tr><th scope=row>18</th><td>3.013</td><td>31</td></tr>\n",
       "\t<tr><th scope=row>19</th><td>2.947</td><td>25</td></tr>\n",
       "\t<tr><th scope=row>20</th><td>2.118</td><td>20</td></tr>\n",
       "</tbody>\n",
       "</table>\n"
      ],
      "text/latex": [
       "A data.frame: 20 × 2\n",
       "\\begin{tabular}{r|ll}\n",
       "  & GPA & ACT\\\\\n",
       "  & <dbl> & <int>\\\\\n",
       "\\hline\n",
       "\t1 & 3.897 & 21\\\\\n",
       "\t2 & 3.885 & 14\\\\\n",
       "\t3 & 3.778 & 28\\\\\n",
       "\t4 & 2.540 & 22\\\\\n",
       "\t5 & 3.028 & 21\\\\\n",
       "\t6 & 3.865 & 31\\\\\n",
       "\t7 & 2.962 & 32\\\\\n",
       "\t8 & 3.961 & 27\\\\\n",
       "\t9 & 0.500 & 29\\\\\n",
       "\t10 & 3.178 & 26\\\\\n",
       "\t11 & 3.310 & 24\\\\\n",
       "\t12 & 3.538 & 30\\\\\n",
       "\t13 & 3.083 & 24\\\\\n",
       "\t14 & 3.013 & 24\\\\\n",
       "\t15 & 3.245 & 33\\\\\n",
       "\t16 & 2.963 & 27\\\\\n",
       "\t17 & 3.522 & 25\\\\\n",
       "\t18 & 3.013 & 31\\\\\n",
       "\t19 & 2.947 & 25\\\\\n",
       "\t20 & 2.118 & 20\\\\\n",
       "\\end{tabular}\n"
      ],
      "text/markdown": [
       "\n",
       "A data.frame: 20 × 2\n",
       "\n",
       "| <!--/--> | GPA &lt;dbl&gt; | ACT &lt;int&gt; |\n",
       "|---|---|---|\n",
       "| 1 | 3.897 | 21 |\n",
       "| 2 | 3.885 | 14 |\n",
       "| 3 | 3.778 | 28 |\n",
       "| 4 | 2.540 | 22 |\n",
       "| 5 | 3.028 | 21 |\n",
       "| 6 | 3.865 | 31 |\n",
       "| 7 | 2.962 | 32 |\n",
       "| 8 | 3.961 | 27 |\n",
       "| 9 | 0.500 | 29 |\n",
       "| 10 | 3.178 | 26 |\n",
       "| 11 | 3.310 | 24 |\n",
       "| 12 | 3.538 | 30 |\n",
       "| 13 | 3.083 | 24 |\n",
       "| 14 | 3.013 | 24 |\n",
       "| 15 | 3.245 | 33 |\n",
       "| 16 | 2.963 | 27 |\n",
       "| 17 | 3.522 | 25 |\n",
       "| 18 | 3.013 | 31 |\n",
       "| 19 | 2.947 | 25 |\n",
       "| 20 | 2.118 | 20 |\n",
       "\n"
      ],
      "text/plain": [
       "   GPA   ACT\n",
       "1  3.897 21 \n",
       "2  3.885 14 \n",
       "3  3.778 28 \n",
       "4  2.540 22 \n",
       "5  3.028 21 \n",
       "6  3.865 31 \n",
       "7  2.962 32 \n",
       "8  3.961 27 \n",
       "9  0.500 29 \n",
       "10 3.178 26 \n",
       "11 3.310 24 \n",
       "12 3.538 30 \n",
       "13 3.083 24 \n",
       "14 3.013 24 \n",
       "15 3.245 33 \n",
       "16 2.963 27 \n",
       "17 3.522 25 \n",
       "18 3.013 31 \n",
       "19 2.947 25 \n",
       "20 2.118 20 "
      ]
     },
     "metadata": {},
     "output_type": "display_data"
    }
   ],
   "source": [
    "DATA = read.table(\"GPA.txt\", header=F)\n",
    "# change column names\n",
    "names(DATA) <- c(\"GPA\",\"ACT\")\n",
    "GPA = c(DATA$GPA)\n",
    "ACT = c(DATA$ACT)\n",
    "# print the first 20 observations\n",
    "head(DATA, 20)"
   ]
  },
  {
   "cell_type": "markdown",
   "id": "31163891",
   "metadata": {},
   "source": [
    "#### (a) What is the explanatory variable?\n",
    "\n",
    "- The explanatory variable is the same as the independent variable also known as the features which will be used in predicting the values of the dependent variable / label. From our dataset, the explanatory variable / feature is the 'ACT' column while the dependent variable / label is the 'GPA'."
   ]
  },
  {
   "cell_type": "markdown",
   "id": "3a3e56c6",
   "metadata": {},
   "source": [
    "#### (b) What is the mean of GPA?"
   ]
  },
  {
   "cell_type": "code",
   "execution_count": 71,
   "id": "01c6df27",
   "metadata": {},
   "outputs": [
    {
     "name": "stdout",
     "output_type": "stream",
     "text": [
      "The mean of GPA = 3.07405"
     ]
    }
   ],
   "source": [
    "cat('The mean of GPA =', mean(GPA))"
   ]
  },
  {
   "cell_type": "markdown",
   "id": "af1e6374",
   "metadata": {},
   "source": [
    "#### (c) What is the mean of predicted variable?\n",
    "- The predicted variable in our dataset is GPA which has a mean of 3.074"
   ]
  },
  {
   "cell_type": "code",
   "execution_count": 72,
   "id": "5ff57be7",
   "metadata": {
    "scrolled": true
   },
   "outputs": [
    {
     "name": "stdout",
     "output_type": "stream",
     "text": [
      "The mean of the predicted variable GPA = 3.07405"
     ]
    }
   ],
   "source": [
    "cat('The mean of the predicted variable GPA =', mean(GPA))"
   ]
  },
  {
   "cell_type": "markdown",
   "id": "f1ae231c",
   "metadata": {},
   "source": [
    "#### (d) What are the variances of ACT and GPA, respectively?"
   ]
  },
  {
   "cell_type": "code",
   "execution_count": 74,
   "id": "3778bfe0",
   "metadata": {},
   "outputs": [
    {
     "name": "stdout",
     "output_type": "stream",
     "text": [
      "The variance of ACT =  19.99937 \n",
      "The variance of GPA =  0.4151719"
     ]
    }
   ],
   "source": [
    "cat('The variance of ACT = ', var(ACT), '\\n')\n",
    "\n",
    "cat('The variance of GPA = ', var(GPA))"
   ]
  },
  {
   "cell_type": "markdown",
   "id": "a72cb7de",
   "metadata": {},
   "source": [
    "#### (e) What is the correlation between the explanatory variable and the explanatory variable?"
   ]
  },
  {
   "cell_type": "code",
   "execution_count": 75,
   "id": "4f981a6b",
   "metadata": {
    "scrolled": true
   },
   "outputs": [
    {
     "data": {
      "text/html": [
       "<table class=\"dataframe\">\n",
       "<caption>A matrix: 2 × 2 of type dbl</caption>\n",
       "<thead>\n",
       "\t<tr><th></th><th scope=col>GPA</th><th scope=col>ACT</th></tr>\n",
       "</thead>\n",
       "<tbody>\n",
       "\t<tr><th scope=row>GPA</th><td>1.0000000</td><td>0.2694818</td></tr>\n",
       "\t<tr><th scope=row>ACT</th><td>0.2694818</td><td>1.0000000</td></tr>\n",
       "</tbody>\n",
       "</table>\n"
      ],
      "text/latex": [
       "A matrix: 2 × 2 of type dbl\n",
       "\\begin{tabular}{r|ll}\n",
       "  & GPA & ACT\\\\\n",
       "\\hline\n",
       "\tGPA & 1.0000000 & 0.2694818\\\\\n",
       "\tACT & 0.2694818 & 1.0000000\\\\\n",
       "\\end{tabular}\n"
      ],
      "text/markdown": [
       "\n",
       "A matrix: 2 × 2 of type dbl\n",
       "\n",
       "| <!--/--> | GPA | ACT |\n",
       "|---|---|---|\n",
       "| GPA | 1.0000000 | 0.2694818 |\n",
       "| ACT | 0.2694818 | 1.0000000 |\n",
       "\n"
      ],
      "text/plain": [
       "    GPA       ACT      \n",
       "GPA 1.0000000 0.2694818\n",
       "ACT 0.2694818 1.0000000"
      ]
     },
     "metadata": {},
     "output_type": "display_data"
    }
   ],
   "source": [
    "cor(DATA)"
   ]
  },
  {
   "cell_type": "markdown",
   "id": "825cec1c",
   "metadata": {},
   "source": [
    "- The correlation between the explanatory 'GPA' variable and the explanatory variable 'GPA' is 1"
   ]
  },
  {
   "cell_type": "markdown",
   "id": "b569e2ac",
   "metadata": {},
   "source": [
    "#### (f) What is the correlation between ACT and GPA, if any?"
   ]
  },
  {
   "cell_type": "code",
   "execution_count": 19,
   "id": "46e0b85d",
   "metadata": {},
   "outputs": [
    {
     "data": {
      "text/html": [
       "0.269481803266264"
      ],
      "text/latex": [
       "0.269481803266264"
      ],
      "text/markdown": [
       "0.269481803266264"
      ],
      "text/plain": [
       "[1] 0.2694818"
      ]
     },
     "metadata": {},
     "output_type": "display_data"
    }
   ],
   "source": [
    "cor(ACT, GPA)"
   ]
  },
  {
   "cell_type": "markdown",
   "id": "7177159b",
   "metadata": {},
   "source": [
    "#### (g) What can you conclude from (f) above?\n",
    "\n",
    "- From the correlation between the feature(ACT) and the label(GPA) I can conclude that even though a correlation exists between the 2 variables, the correlation is weak and our points when plotted will not be so close ."
   ]
  },
  {
   "cell_type": "markdown",
   "id": "67b01ebc",
   "metadata": {},
   "source": [
    "#### (h) What is the equation for your linear regression model?\n",
    "\n",
    "A linear regression equation is written as $ y = b_0 + b_1X + e $\n",
    "Considering that we do not know the value of the error yet and we ultimately aim to minimize our error to near 0 by applying the Squared Error loss function to the equation, we will then estimate our equation as $ y \\approx b_0 + b_1X $\n",
    "\n",
    "Where $b_0$ = intercept, and $b_1$ = slope\n",
    "\n",
    "So our equation will now be written $ GPA \\approx b_0 + b_1ACT $\n",
    "\n",
    "To get our intercept and slope, we first formulate our linear models as shown below as extract the coeffcients of the intercept and slope:"
   ]
  },
  {
   "cell_type": "code",
   "execution_count": 97,
   "id": "cfbb5ef6",
   "metadata": {
    "scrolled": true
   },
   "outputs": [
    {
     "data": {
      "text/plain": [
       "\n",
       "Call:\n",
       "lm(formula = GPA ~ ACT, data = DATA)\n",
       "\n",
       "Coefficients:\n",
       "(Intercept)          ACT  \n",
       "    2.11405      0.03883  \n"
      ]
     },
     "metadata": {},
     "output_type": "display_data"
    }
   ],
   "source": [
    "lm_model <- lm(GPA ~ ACT, data = DATA)\n",
    "lm_model"
   ]
  },
  {
   "cell_type": "markdown",
   "id": "904d4234",
   "metadata": {},
   "source": [
    "From our regression model above, we can get the values of the intercept and slope and then compute our as follows:\n",
    "\n",
    "$GPA = 2.114 + 0.039ACT $"
   ]
  },
  {
   "cell_type": "markdown",
   "id": "5ec40488",
   "metadata": {},
   "source": [
    "(i) Fit a simple linear regression using lm() in R.\n",
    "(j) Given the fitted model, what are your parameter estimates?\n",
    "(k) Plot the datapoints and add the fitted line.\n",
    "(l) What is the interpretation of the slope in your fitted model, if any?"
   ]
  },
  {
   "cell_type": "markdown",
   "id": "19a247b9",
   "metadata": {},
   "source": [
    "#### (i) Fit a simple linear regression using lm() in R."
   ]
  },
  {
   "cell_type": "code",
   "execution_count": 98,
   "id": "7de953ad",
   "metadata": {},
   "outputs": [
    {
     "data": {
      "text/plain": [
       "\n",
       "Call:\n",
       "lm(formula = GPA ~ ACT, data = DATA)\n",
       "\n",
       "Coefficients:\n",
       "(Intercept)          ACT  \n",
       "    2.11405      0.03883  \n"
      ]
     },
     "metadata": {},
     "output_type": "display_data"
    }
   ],
   "source": [
    "lm_model <- lm(GPA ~ ACT, data = DATA)\n",
    "lm_model"
   ]
  },
  {
   "cell_type": "markdown",
   "id": "7891d58d",
   "metadata": {},
   "source": [
    "#### (j) Given the fitted model, what are your parameter estimates?"
   ]
  },
  {
   "cell_type": "markdown",
   "id": "6f8ee06b",
   "metadata": {},
   "source": [
    "Since our linear regression equation is of the form as $ y = b_0 + b_1X $\n",
    "\n",
    "our parameters are  $b_0$, and $b_1$ and their values are as follows:\n",
    "\n",
    "$b_0$ = 2.114\n",
    "\n",
    "$b_1$ = 0.039"
   ]
  },
  {
   "cell_type": "markdown",
   "id": "6ea4aee0",
   "metadata": {},
   "source": [
    "#### (k) Plot the datapoints and add the fitted line. "
   ]
  },
  {
   "cell_type": "code",
   "execution_count": 99,
   "id": "d535386a",
   "metadata": {},
   "outputs": [
    {
     "data": {
      "image/png": "[encoded data removed]",
      "text/plain": [
       "plot without title"
      ]
     },
     "metadata": {
      "image/png": {
       "height": 420,
       "width": 420
      }
     },
     "output_type": "display_data"
    }
   ],
   "source": [
    "#plot the lm_model\n",
    "plot(GPA ~ ACT, data= DATA, pch=20, xlab=\"ACTUAL SCORE\", ylab=\"GRADE POINT AVERAGE (GPA)\")\n",
    "abline(coef(lm_model), col = \"red\", lwd = 1)"
   ]
  },
  {
   "cell_type": "markdown",
   "id": "90bfaa66",
   "metadata": {},
   "source": [
    "#### (l) What is the interpretation of the slope in your fitted model, if any?"
   ]
  },
  {
   "cell_type": "markdown",
   "id": "bde87e27",
   "metadata": {},
   "source": [
    "- From our intercept of 2.114 and slope of 0.039, the implication is that for a student to get an extra point in their GPA then they have to get and additional 0.039 points."
   ]
  },
  {
   "cell_type": "markdown",
   "id": "6b3ff652",
   "metadata": {},
   "source": [
    "#### (m) What is the significance of hypothesis testing in linear regression?"
   ]
  },
  {
   "cell_type": "markdown",
   "id": "85bf7343",
   "metadata": {},
   "source": [
    "- Hypothesis testing is used to confirm if there is a significance in our coefficients which will aid us in either rejecting or accepting the null hypothesis. If there is enough significance (i.e. < 0.05) then we reject the null hypothesis otherwise we retain the null hypothesis."
   ]
  },
  {
   "cell_type": "markdown",
   "id": "cf3a6b09",
   "metadata": {},
   "source": [
    "#### (n) Display the ANOVA table and extract MSE"
   ]
  },
  {
   "cell_type": "code",
   "execution_count": 101,
   "id": "e021c2cd",
   "metadata": {},
   "outputs": [
    {
     "data": {
      "text/html": [
       "<table class=\"dataframe\">\n",
       "<caption>A anova: 2 × 5</caption>\n",
       "<thead>\n",
       "\t<tr><th></th><th scope=col>Df</th><th scope=col>Sum Sq</th><th scope=col>Mean Sq</th><th scope=col>F value</th><th scope=col>Pr(&gt;F)</th></tr>\n",
       "\t<tr><th></th><th scope=col>&lt;int&gt;</th><th scope=col>&lt;dbl&gt;</th><th scope=col>&lt;dbl&gt;</th><th scope=col>&lt;dbl&gt;</th><th scope=col>&lt;dbl&gt;</th></tr>\n",
       "</thead>\n",
       "<tbody>\n",
       "\t<tr><th scope=row>ACT</th><td>  1</td><td> 3.587846</td><td>3.5878459</td><td>9.240243</td><td>0.002916604</td></tr>\n",
       "\t<tr><th scope=row>Residuals</th><td>118</td><td>45.817608</td><td>0.3882848</td><td>      NA</td><td>         NA</td></tr>\n",
       "</tbody>\n",
       "</table>\n"
      ],
      "text/latex": [
       "A anova: 2 × 5\n",
       "\\begin{tabular}{r|lllll}\n",
       "  & Df & Sum Sq & Mean Sq & F value & Pr(>F)\\\\\n",
       "  & <int> & <dbl> & <dbl> & <dbl> & <dbl>\\\\\n",
       "\\hline\n",
       "\tACT &   1 &  3.587846 & 3.5878459 & 9.240243 & 0.002916604\\\\\n",
       "\tResiduals & 118 & 45.817608 & 0.3882848 &       NA &          NA\\\\\n",
       "\\end{tabular}\n"
      ],
      "text/markdown": [
       "\n",
       "A anova: 2 × 5\n",
       "\n",
       "| <!--/--> | Df &lt;int&gt; | Sum Sq &lt;dbl&gt; | Mean Sq &lt;dbl&gt; | F value &lt;dbl&gt; | Pr(&gt;F) &lt;dbl&gt; |\n",
       "|---|---|---|---|---|---|\n",
       "| ACT |   1 |  3.587846 | 3.5878459 | 9.240243 | 0.002916604 |\n",
       "| Residuals | 118 | 45.817608 | 0.3882848 |       NA |          NA |\n",
       "\n"
      ],
      "text/plain": [
       "          Df  Sum Sq    Mean Sq   F value  Pr(>F)     \n",
       "ACT         1  3.587846 3.5878459 9.240243 0.002916604\n",
       "Residuals 118 45.817608 0.3882848       NA          NA"
      ]
     },
     "metadata": {},
     "output_type": "display_data"
    }
   ],
   "source": [
    "anova(lm_model)"
   ]
  },
  {
   "cell_type": "markdown",
   "id": "a63b31bb",
   "metadata": {},
   "source": [
    "#### (o) \n",
    "- The t-test is used to compare the means of two populations while f-test is used to compare two population variances. Do you agree with this statement? What is/are the implication(s) on your fitted model, if any?"
   ]
  },
  {
   "cell_type": "code",
   "execution_count": 102,
   "id": "283ffddc",
   "metadata": {},
   "outputs": [
    {
     "data": {
      "text/plain": [
       "\n",
       "Call:\n",
       "lm(formula = GPA ~ ACT, data = DATA)\n",
       "\n",
       "Residuals:\n",
       "     Min       1Q   Median       3Q      Max \n",
       "-2.74004 -0.33827  0.04062  0.44064  1.22737 \n",
       "\n",
       "Coefficients:\n",
       "            Estimate Std. Error t value Pr(>|t|)    \n",
       "(Intercept)  2.11405    0.32089   6.588  1.3e-09 ***\n",
       "ACT          0.03883    0.01277   3.040  0.00292 ** \n",
       "---\n",
       "Signif. codes:  0 '***' 0.001 '**' 0.01 '*' 0.05 '.' 0.1 ' ' 1\n",
       "\n",
       "Residual standard error: 0.6231 on 118 degrees of freedom\n",
       "Multiple R-squared:  0.07262,\tAdjusted R-squared:  0.06476 \n",
       "F-statistic:  9.24 on 1 and 118 DF,  p-value: 0.002917\n"
      ]
     },
     "metadata": {},
     "output_type": "display_data"
    }
   ],
   "source": [
    "summary(lm_model)"
   ]
  },
  {
   "cell_type": "markdown",
   "id": "b540b740",
   "metadata": {},
   "source": [
    "- Yes, we agree with the above statement as the t-test is duly used to compare the means of 2 populations while the f-test is used to compare the varaiances in the populations.\n",
    "- From the summary of our model above, the t-values are high which indicates that the standard errors are small compared to the coefficients. From the F-statistics we can also deduce that the at least one of the coefficients is non zero."
   ]
  },
  {
   "cell_type": "markdown",
   "id": "88140030",
   "metadata": {},
   "source": [
    "#### (p) What is the proportion of variation in GPA explained by the regression model?"
   ]
  },
  {
   "cell_type": "markdown",
   "id": "8d8d371d",
   "metadata": {},
   "source": [
    "- The proportion of variation is gotten from our summary table above as the Multiple R-squared value of 0.07262\n",
    "- This indicates that the variation between the predicted value of our linear model and true value is 0.07262"
   ]
  },
  {
   "cell_type": "markdown",
   "id": "f424bc70",
   "metadata": {},
   "source": [
    "#### (q) Obtain a 95% confidence interval for the estimated mean GPA of students whose ACT test score was 28. Interpret your confidence interval."
   ]
  },
  {
   "cell_type": "markdown",
   "id": "a13b4369",
   "metadata": {},
   "source": [
    "- First we create a new dataset for students whose ACT score was exactly 28"
   ]
  },
  {
   "cell_type": "code",
   "execution_count": 93,
   "id": "943779e0",
   "metadata": {},
   "outputs": [
    {
     "data": {
      "text/html": [
       "<table class=\"dataframe\">\n",
       "<caption>A data.frame: 10 × 2</caption>\n",
       "<thead>\n",
       "\t<tr><th></th><th scope=col>GPA</th><th scope=col>ACT</th></tr>\n",
       "\t<tr><th></th><th scope=col>&lt;dbl&gt;</th><th scope=col>&lt;int&gt;</th></tr>\n",
       "</thead>\n",
       "<tbody>\n",
       "\t<tr><th scope=row>3</th><td>3.778</td><td>28</td></tr>\n",
       "\t<tr><th scope=row>23</th><td>3.731</td><td>28</td></tr>\n",
       "\t<tr><th scope=row>25</th><td>3.556</td><td>28</td></tr>\n",
       "\t<tr><th scope=row>27</th><td>2.420</td><td>28</td></tr>\n",
       "\t<tr><th scope=row>33</th><td>2.929</td><td>28</td></tr>\n",
       "\t<tr><th scope=row>79</th><td>4.000</td><td>28</td></tr>\n",
       "\t<tr><th scope=row>108</th><td>3.621</td><td>28</td></tr>\n",
       "\t<tr><th scope=row>109</th><td>3.792</td><td>28</td></tr>\n",
       "\t<tr><th scope=row>118</th><td>3.914</td><td>28</td></tr>\n",
       "\t<tr><th scope=row>120</th><td>2.948</td><td>28</td></tr>\n",
       "</tbody>\n",
       "</table>\n"
      ],
      "text/latex": [
       "A data.frame: 10 × 2\n",
       "\\begin{tabular}{r|ll}\n",
       "  & GPA & ACT\\\\\n",
       "  & <dbl> & <int>\\\\\n",
       "\\hline\n",
       "\t3 & 3.778 & 28\\\\\n",
       "\t23 & 3.731 & 28\\\\\n",
       "\t25 & 3.556 & 28\\\\\n",
       "\t27 & 2.420 & 28\\\\\n",
       "\t33 & 2.929 & 28\\\\\n",
       "\t79 & 4.000 & 28\\\\\n",
       "\t108 & 3.621 & 28\\\\\n",
       "\t109 & 3.792 & 28\\\\\n",
       "\t118 & 3.914 & 28\\\\\n",
       "\t120 & 2.948 & 28\\\\\n",
       "\\end{tabular}\n"
      ],
      "text/markdown": [
       "\n",
       "A data.frame: 10 × 2\n",
       "\n",
       "| <!--/--> | GPA &lt;dbl&gt; | ACT &lt;int&gt; |\n",
       "|---|---|---|\n",
       "| 3 | 3.778 | 28 |\n",
       "| 23 | 3.731 | 28 |\n",
       "| 25 | 3.556 | 28 |\n",
       "| 27 | 2.420 | 28 |\n",
       "| 33 | 2.929 | 28 |\n",
       "| 79 | 4.000 | 28 |\n",
       "| 108 | 3.621 | 28 |\n",
       "| 109 | 3.792 | 28 |\n",
       "| 118 | 3.914 | 28 |\n",
       "| 120 | 2.948 | 28 |\n",
       "\n"
      ],
      "text/plain": [
       "    GPA   ACT\n",
       "3   3.778 28 \n",
       "23  3.731 28 \n",
       "25  3.556 28 \n",
       "27  2.420 28 \n",
       "33  2.929 28 \n",
       "79  4.000 28 \n",
       "108 3.621 28 \n",
       "109 3.792 28 \n",
       "118 3.914 28 \n",
       "120 2.948 28 "
      ]
     },
     "metadata": {},
     "output_type": "display_data"
    }
   ],
   "source": [
    "DATA_28 = DATA[DATA$ACT == 28, ]\n",
    "DATA_28"
   ]
  },
  {
   "cell_type": "code",
   "execution_count": 94,
   "id": "1782e96f",
   "metadata": {
    "scrolled": false
   },
   "outputs": [
    {
     "name": "stdout",
     "output_type": "stream",
     "text": [
      "Mean of GPA for students with ACT score of 28 =  3.4689"
     ]
    }
   ],
   "source": [
    "# Compute the mean of the GPA column\n",
    "cat('Mean of GPA for students with ACT score of 28 = ', mean(DATA_28$GPA))"
   ]
  },
  {
   "cell_type": "code",
   "execution_count": 96,
   "id": "b0a86e4f",
   "metadata": {},
   "outputs": [
    {
     "data": {
      "text/html": [
       "<table class=\"dataframe\">\n",
       "<caption>A matrix: 1 × 2 of type dbl</caption>\n",
       "<thead>\n",
       "\t<tr><th></th><th scope=col>2.5 %</th><th scope=col>97.5 %</th></tr>\n",
       "</thead>\n",
       "<tbody>\n",
       "\t<tr><th scope=row>(Intercept)</th><td>3.096231</td><td>3.841569</td></tr>\n",
       "</tbody>\n",
       "</table>\n"
      ],
      "text/latex": [
       "A matrix: 1 × 2 of type dbl\n",
       "\\begin{tabular}{r|ll}\n",
       "  & 2.5 \\% & 97.5 \\%\\\\\n",
       "\\hline\n",
       "\t(Intercept) & 3.096231 & 3.841569\\\\\n",
       "\\end{tabular}\n"
      ],
      "text/markdown": [
       "\n",
       "A matrix: 1 × 2 of type dbl\n",
       "\n",
       "| <!--/--> | 2.5 % | 97.5 % |\n",
       "|---|---|---|\n",
       "| (Intercept) | 3.096231 | 3.841569 |\n",
       "\n"
      ],
      "text/plain": [
       "            2.5 %    97.5 %  \n",
       "(Intercept) 3.096231 3.841569"
      ]
     },
     "metadata": {},
     "output_type": "display_data"
    }
   ],
   "source": [
    "# Compute the 95% confidence interval for the GPA of students with ACT score of 28\n",
    "lm_28 = lm(GPA ~ 1, DATA_28)\n",
    "confint(lm_28, level = 0.95)"
   ]
  },
  {
   "cell_type": "markdown",
   "id": "13d0fda8",
   "metadata": {},
   "source": [
    "- From our result, we are 95% confident that the mean for the GPA of students with ACT score of 28 lies between 3.096 and 3.841"
   ]
  }
 ],
 "metadata": {
  "kernelspec": {
   "display_name": "R",
   "language": "R",
   "name": "ir"
  },
  "language_info": {
   "codemirror_mode": "r",
   "file_extension": ".r",
   "mimetype": "text/x-r-source",
   "name": "R",
   "pygments_lexer": "r",
   "version": "4.2.1"
  }
 },
 "nbformat": 4,
 "nbformat_minor": 5
}
